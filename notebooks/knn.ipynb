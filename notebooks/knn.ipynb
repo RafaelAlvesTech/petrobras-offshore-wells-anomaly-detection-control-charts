{
 "cells": [
  {
   "cell_type": "code",
   "execution_count": null,
   "id": "28a54569",
   "metadata": {},
   "outputs": [],
   "source": [
    "from sklearn.neghbors import KNeighborsClassifier\n",
    "x = chur_df[[\"total_day_carge\",\"total_eve_carge\"]].values\n",
    "y = churn_df[\"churn\"].values\n",
    "print(X.Shape, y.shape)"
   ]
  }
 ],
 "metadata": {
  "kernelspec": {
   "display_name": "jupyter (3.13.5)",
   "language": "python",
   "name": "python3"
  },
  "language_info": {
   "name": "python",
   "version": "3.13.5"
  }
 },
 "nbformat": 4,
 "nbformat_minor": 5
}
