{
 "cells": [
  {
   "cell_type": "markdown",
   "id": "50d43e15",
   "metadata": {},
   "source": [
    "# Anomaly Detection using K-Nearest Neighbors (KNN)\n",
    "\n",
    "This notebook will walk through an anomaly detection model using KNN.\n",
    "\n",
    "First, we'll load the data, then we'll define and train the model, and finally, we'll visualize the results.\n",
    "\n",
    "Let's start by importing the necessary libraries and correcting the code.\n"
   ]
  },
  {
   "cell_type": "code",
   "execution_count": null,
   "id": "28a54569",
   "metadata": {},
   "outputs": [],
   "source": [
    "from sklearn.neighbors import KNeighborsClassifier\n",
    "\n",
    "x = churn_df[[\"total_day_charge\", \"total_eve_charge\"]].values\n",
    "y = churn_df[\"churn\"].values\n",
    "print(x.shape, y.shape)"
   ]
  },
  {
   "cell_type": "code",
   "execution_count": null,
   "id": "669a3408",
   "metadata": {},
   "outputs": [],
   "source": [
    "import pandas as pd\n",
    "import numpy as np\n",
    "\n",
    "# Create a sample dataframe for demonstration\n",
    "data = {\n",
    "    \"total_day_charge\": np.random.rand(100) * 100,\n",
    "    \"total_eve_charge\": np.random.rand(100) * 50,\n",
    "    \"churn\": np.random.randint(0, 2, 100),\n",
    "}\n",
    "churn_df = pd.DataFrame(data)\n",
    "\n",
    "print(churn_df.head())"
   ]
  },
  {
   "cell_type": "code",
   "execution_count": null,
   "id": "a328a933",
   "metadata": {},
   "outputs": [],
   "source": [
    "# Define and train the KNN model\n",
    "knn = KNeighborsClassifier(n_neighbors=5)\n",
    "knn.fit(x, y)"
   ]
  },
  {
   "cell_type": "code",
   "execution_count": null,
   "id": "21d05af9",
   "metadata": {},
   "outputs": [],
   "source": [
    "import matplotlib.pyplot as plt\n",
    "\n",
    "# Create a mesh to plot the decision boundary\n",
    "h = 0.02  # step size in the mesh\n",
    "x_min, x_max = x[:, 0].min() - 1, x[:, 0].max() + 1\n",
    "y_min, y_max = x[:, 1].min() - 1, x[:, 1].max() + 1\n",
    "xx, yy = np.meshgrid(np.arange(x_min, x_max, h), np.arange(y_min, y_max, h))\n",
    "\n",
    "# Predict on the meshgrid\n",
    "Z = knn.predict(np.c_[xx.ravel(), yy.ravel()])\n",
    "Z = Z.reshape(xx.shape)\n",
    "\n",
    "# Plot the decision boundary\n",
    "plt.figure(figsize=(8, 6))\n",
    "plt.contourf(xx, yy, Z, cmap=plt.cm.coolwarm, alpha=0.8)\n",
    "\n",
    "# Plot the training points\n",
    "plt.scatter(x[:, 0], x[:, 1], c=y, cmap=plt.cm.coolwarm)\n",
    "plt.xlabel(\"Total Day Charge\")\n",
    "plt.ylabel(\"Total Eve Charge\")\n",
    "plt.title(\"KNN Decision Boundary\")\n",
    "plt.show()"
   ]
  }
 ],
 "metadata": {
  "kernelspec": {
   "display_name": ".venv",
   "language": "python",
   "name": "python3"
  },
  "language_info": {
   "name": "python",
   "version": "3.11.13"
  }
 },
 "nbformat": 4,
 "nbformat_minor": 5
}
